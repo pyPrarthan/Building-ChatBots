{
 "cells": [
  {
   "cell_type": "markdown",
   "id": "74ff79ad",
   "metadata": {},
   "source": [
    "# Discover Insights into Classic Texts"
   ]
  },
  {
   "cell_type": "markdown",
   "id": "34a0bb37",
   "metadata": {},
   "source": [
    "Novels and text contain insights into ideologies and places that are often originally unknown to the reader. By reading a written piece, you uncover the opinions of the author on their chosen topic and come to understand both the topic and how the author thinks.\n",
    "\n",
    "In this project you will perform a natural language parsing analysis to gain deeper insight into one of two famous and often discussed novels in the public domain: <a href=\"http://www.gutenberg.org/ebooks/174\" target=\"_blank\" rel=\"noopener noreferrer\">Oscar Wilde's _The Picture of Dorian Gray_</a> or <a href=\"http://www.gutenberg.org/ebooks/6130\" target=\"_blank\" rel=\"noopener noreferrer\"> Homer's _The Iliad!_</a> Fear not if you haven't heard or read the novels, one of the beauties of natural language parsing with regular expressions is the ability to gain insight into lengthy pieces of text without a formal read!\n",
    "\n",
    "By the end of this project, you will find out the main topics of discussion in the novel of your choosing and can begin to discern some of the author's thoughts and beliefs!"
   ]
  },
  {
   "cell_type": "markdown",
   "id": "dcf3caef",
   "metadata": {},
   "source": [
    "## Import and Preprocess Text Data"
   ]
  },
  {
   "cell_type": "markdown",
   "id": "359007fa",
   "metadata": {},
   "source": [
    "1. Given to you in the downloadable kit are text files for _The Picture of Dorian Gray_, named `dorian_gray.txt`, and _The Iliad_, named `the_iliad.txt`, sourced from <a href=\"https://www.gutenberg.org/\" target=\"_blank\" rel=\"noopener noreferrer\">Project Gutenberg</a>. Import the text of your choosing, convert it to lowercase, and name it `text` using the following line of code.\n",
    "\n",
    "   ```py\n",
    "   text = open(\"_______.txt\",encoding='utf-8').read().lower()\n",
    "   ```\n",
    "   \n",
    "   Replace the blank with the name of the text file for the novel you choose to analyze!"
   ]
  },
  {
   "cell_type": "code",
   "execution_count": 12,
   "id": "b207551d",
   "metadata": {},
   "outputs": [
    {
     "name": "stdout",
     "output_type": "stream",
     "text": [
      "importing Jupyter notebook from chunk_counters.ipynb\n"
     ]
    }
   ],
   "source": [
    "from nltk import pos_tag, RegexpParser\n",
    "import import_ipynb\n",
    "from tokenize_words import word_sentence_tokenize\n",
    "from chunk_counters import np_chunk_counter, vp_chunk_counter\n",
    "\n",
    "# import text of choice here\n",
    "\n"
   ]
  },
  {
   "cell_type": "markdown",
   "id": "0010d6bd",
   "metadata": {},
   "source": [
    "2. With the text imported, now you need to split the text into individual sentences and then individual words. This allows you to perform a sentence-by-sentence parsing analysis!\n",
    "\n",
    "   Provided to you in the downloadable kit is a customized function `word_sentence_tokenize()` that will sentence tokenize a text and then word tokenize each sentence, returning a list of word tokenized sentences. Call the function with `text` as an argument and save the result to a variable named `word_tokenized_text`."
   ]
  },
  {
   "cell_type": "code",
   "execution_count": 6,
   "id": "dc47040c",
   "metadata": {},
   "outputs": [],
   "source": [
    "# sentence and word tokenize text here\n",
    "\n"
   ]
  },
  {
   "cell_type": "markdown",
   "id": "11336c02",
   "metadata": {},
   "source": [
    "3. Save any word tokenized sentence in `word_tokenized_text` to a variable named `single_word_tokenized_sentence`. Print `single_word_tokenized_sentence` as a check to visualize what you have done so far!"
   ]
  },
  {
   "cell_type": "code",
   "execution_count": 7,
   "id": "e5ce7fc4",
   "metadata": {},
   "outputs": [],
   "source": [
    "# store and print any word tokenized sentence here\n",
    "\n"
   ]
  },
  {
   "cell_type": "markdown",
   "id": "191d1eb1",
   "metadata": {},
   "source": [
    "## Part-of-speech Tag Text"
   ]
  },
  {
   "cell_type": "markdown",
   "id": "9d9e5d1f",
   "metadata": {},
   "source": [
    "4. Next you can part-of-speech tag each sentence to allow for syntax parsing! Begin by creating a list named `pos_tagged_text` that will hold each part-of-speech tagged sentence from the novel."
   ]
  },
  {
   "cell_type": "code",
   "execution_count": 8,
   "id": "0603deee",
   "metadata": {},
   "outputs": [],
   "source": [
    "# create a list to hold part-of-speech tagged sentences here\n",
    "\n"
   ]
  },
  {
   "cell_type": "markdown",
   "id": "4e43a24a",
   "metadata": {},
   "source": [
    "5. Loop through each word tokenized sentence in `word_tokenized_text` and part-of-speech tag each sentence using `nltk`'s `pos_tag()` function. Append the result to `pos_tagged_text`."
   ]
  },
  {
   "cell_type": "code",
   "execution_count": 9,
   "id": "b39a4538",
   "metadata": {},
   "outputs": [],
   "source": [
    "# create a for loop through each word tokenized sentence here\n",
    "\n",
    "  # part-of-speech tag each sentence and append to list of pos-tagged sentences here\n",
    "    \n"
   ]
  },
  {
   "cell_type": "markdown",
   "id": "8205d88f",
   "metadata": {},
   "source": [
    "6. Save any part-of-speech tagged sentence in `pos_tagged_text` to a variable named `single_pos_sentence`. Print `single_pos_sentence` as a check to visualize what you have done so far!"
   ]
  },
  {
   "cell_type": "code",
   "execution_count": 10,
   "id": "8af95d87",
   "metadata": {},
   "outputs": [],
   "source": [
    "# store and print any part-of-speech tagged sentence here\n",
    "\n",
    "\n"
   ]
  },
  {
   "cell_type": "markdown",
   "id": "be552549",
   "metadata": {},
   "source": [
    "## Chunk Sentences"
   ]
  },
  {
   "cell_type": "markdown",
   "id": "f50c8554",
   "metadata": {},
   "source": [
    "7. Now that you have part-of-speech tagged your text, you can move on to syntax parsing!\n",
    "\n",
    "   Begin by defining a piece of chunk grammar `np_chunk_grammar` that will chunk a noun phrase. Remember, a noun phrase consists of an optional determiner `DT`, followed by any number of adjectives `JJ`, followed by a noun `NN`."
   ]
  },
  {
   "cell_type": "code",
   "execution_count": 11,
   "id": "c4333ca9",
   "metadata": {},
   "outputs": [],
   "source": [
    "# define noun phrase chunk grammar here\n",
    "\n"
   ]
  },
  {
   "cell_type": "markdown",
   "id": "1a794295",
   "metadata": {},
   "source": [
    "8. Create a `nltk` `RegexpParser` object named `np_chunk_parser` using the noun phrase chunk grammar you defined as an argument."
   ]
  },
  {
   "cell_type": "code",
   "execution_count": 13,
   "id": "c985dcde",
   "metadata": {},
   "outputs": [],
   "source": [
    "# create noun phrase RegexpParser object here\n",
    "\n"
   ]
  },
  {
   "cell_type": "markdown",
   "id": "7d08787c",
   "metadata": {},
   "source": [
    "9. Define a piece of chunk grammar named `vp_chunk_grammar` that will chunk a verb phrase of the following form: noun phrase, followed by a verb `VB`. followed by an optional adverb `RB`."
   ]
  },
  {
   "cell_type": "code",
   "execution_count": 14,
   "id": "f807a549",
   "metadata": {},
   "outputs": [],
   "source": [
    "# define verb phrase chunk grammar here\n",
    "\n"
   ]
  },
  {
   "cell_type": "markdown",
   "id": "d553fbb0",
   "metadata": {},
   "source": [
    "10. Create a `nltk` `RegexpParser` object named `vp_chunk_parser` using the verb phrase chunk grammar you defined as an argument."
   ]
  },
  {
   "cell_type": "code",
   "execution_count": 15,
   "id": "8ee7f3bf",
   "metadata": {},
   "outputs": [],
   "source": [
    "# create verb phrase RegexpParser object here\n",
    "\n"
   ]
  },
  {
   "cell_type": "markdown",
   "id": "a51341fa",
   "metadata": {},
   "source": [
    "11. Create two empty lists `np_chunked_test` and `vp_chunked_test` that will hold the chunked sentences from your text. "
   ]
  },
  {
   "cell_type": "code",
   "execution_count": 16,
   "id": "047c8383",
   "metadata": {},
   "outputs": [],
   "source": [
    "# create a list to hold noun phrase chunked sentences and a list to hold verb phrase chunked sentences here\n",
    "\n",
    "\n"
   ]
  },
  {
   "cell_type": "markdown",
   "id": "a9cf6425",
   "metadata": {},
   "source": [
    "12. Loop through each part-of-speech tagged sentence in `pos_tagged_text` and noun phrase chunk each sentence using your `RegexpParser`'s `.parse()` method. Append the result to `np_chunked_text`."
   ]
  },
  {
   "cell_type": "code",
   "execution_count": 17,
   "id": "162d0e51",
   "metadata": {},
   "outputs": [],
   "source": [
    "# create a for loop through each pos-tagged sentence here\n",
    "\n",
    "  # chunk each sentence and append to list here\n",
    "    \n",
    "    \n"
   ]
  },
  {
   "cell_type": "markdown",
   "id": "f3cab095",
   "metadata": {},
   "source": [
    "13. Within the same loop you defined in the previous task, verb phrase chunk each part-of-speech tagged sentence using your `RegexpParser`'s `.parse()` method. Append the result to `vp_chunked_text`."
   ]
  },
  {
   "cell_type": "code",
   "execution_count": 18,
   "id": "a7d0e328",
   "metadata": {},
   "outputs": [],
   "source": [
    "# create a for loop through each pos-tagged sentence here\n",
    "\n",
    "  # chunk each sentence and append to lists here\n",
    "    \n",
    "    \n"
   ]
  },
  {
   "cell_type": "markdown",
   "id": "2ade8062",
   "metadata": {},
   "source": [
    "## Analyze Chunks"
   ]
  },
  {
   "cell_type": "markdown",
   "id": "f4213383",
   "metadata": {},
   "source": [
    "14. Now that you have chunked your novel, you can analyze the chunk frequencies to gain insights!\n",
    "\n",
    "    A function `np_chunk_counter()` that returns the `30` most common NP-chunks from a list of chunked sentences has been imported for you in the code block for task 1. Call `np_chunk_counter()` with `np_chunked_text` as an argument and save the result to a variable named `most_common_np_chunks`. Print `most_common_np_chunks`. What sticks out to you about the most common noun phrase chunks? Are you surprised by anything? Open **Discover Insights into Classic Texts_Solution.ipynb** to see our analysis.\n",
    "    \n",
    "    Want to see how `np_chunk_counter()` works? Open **chunk_counters.ipynb** from the kit you downloaded and inspect `np_chunk_counter()`."
   ]
  },
  {
   "cell_type": "code",
   "execution_count": 19,
   "id": "17916ab2",
   "metadata": {},
   "outputs": [],
   "source": [
    "# store and print the most common NP-chunks here\n",
    "\n",
    "\n"
   ]
  },
  {
   "cell_type": "markdown",
   "id": "db89a4b7",
   "metadata": {},
   "source": [
    "15. A function `vp_chunk_counter()` that returns the `30` most common VP-chunks from a list of chunked sentences has been imported for you in the code block for task 1. Call `vp_chunk_counter()` with `vp_chunked_text` as an argument and save the result to a variable named `most_common_vp_chunks`. Print `most_common_vp_chunks`. What sticks out to you about the most common verb phrase chunks? Are you surprised by anything? Open **Discover Insights into Classic Texts_Solution.ipynb** to see our analysis.\n",
    "\n",
    "    Want to see how `vp_chunk_counter()` works? Open **chunk_counters.ipynb** from the kit you downloaded and inspect `np_chunk_counter()`."
   ]
  },
  {
   "cell_type": "code",
   "execution_count": 20,
   "id": "9cfdc4ec",
   "metadata": {},
   "outputs": [],
   "source": [
    "# store and print the most common VP-chunks here\n",
    "\n"
   ]
  },
  {
   "cell_type": "markdown",
   "id": "883a9005",
   "metadata": {},
   "source": [
    "## Go Further On Your Own!"
   ]
  },
  {
   "cell_type": "markdown",
   "id": "b125650e",
   "metadata": {},
   "source": [
    "16. Amazing! You have performed a syntax parsing analysis on a novel and gained insight into both the meaning of the text and how the author thinks, without reading a page!\n",
    "\n",
    "    Now's your chance to get creative. Is there a different pattern of parts-of-speech you want to identify and count in the novel you selected? Add a new piece of chunk grammar and repeat the process of chunking. What do you find?"
   ]
  },
  {
   "cell_type": "code",
   "execution_count": null,
   "id": "7cccd176",
   "metadata": {},
   "outputs": [],
   "source": []
  },
  {
   "cell_type": "markdown",
   "id": "66288d6d",
   "metadata": {},
   "source": [
    "17. Not the biggest fan of _The Picture of Dorian Gray_ or _The Iliad_? No worries! Included in the downloadable kit is a blank text file named `my_text.txt`. Open the file and copy any text of your choice (novel, script, article, etc.) into the file. Save the file and then return to this file (**Discover Insights into Classic Texts.ipynb**). Update the opened text file to `my_text.txt` and rerun this notebook to perform a syntax parsing analysis on your text! What insights or deeper meanings did you discover?"
   ]
  },
  {
   "cell_type": "code",
   "execution_count": null,
   "id": "c2a960ce",
   "metadata": {},
   "outputs": [],
   "source": []
  },
  {
   "cell_type": "code",
   "execution_count": null,
   "id": "18dfe52e",
   "metadata": {},
   "outputs": [],
   "source": []
  }
 ],
 "metadata": {
  "kernelspec": {
   "display_name": "Python 3 (ipykernel)",
   "language": "python",
   "name": "python3"
  },
  "language_info": {
   "codemirror_mode": {
    "name": "ipython",
    "version": 3
   },
   "file_extension": ".py",
   "mimetype": "text/x-python",
   "name": "python",
   "nbconvert_exporter": "python",
   "pygments_lexer": "ipython3",
   "version": "3.7.11"
  }
 },
 "nbformat": 4,
 "nbformat_minor": 5
}
